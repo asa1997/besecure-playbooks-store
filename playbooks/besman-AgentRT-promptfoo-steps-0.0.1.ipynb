{
 "cells": [
  {
   "cell_type": "markdown",
   "id": "1092f7b8",
   "metadata": {},
   "source": [
    "# Promptfoo Agent Red Teaming Steps File"
   ]
  },
  {
   "cell_type": "markdown",
   "id": "ff726f06",
   "metadata": {},
   "source": [
    "## 1. Check for config file\n",
    "\n",
    "The environment script creates a starter file at:\n",
    "`$BESMAN_PROMPTFOO_CONFIG_PATH/promptfooconfig.yaml`\n",
    "\n",
    "Open the starter file in your favourite editor.\n",
    "\n",
    "Think of this file as the test plan. You tailor it; promptfoo executes it. Below is a comprehensive guide to every editable part.\n"
   ]
  },
  {
   "cell_type": "markdown",
   "id": "0e3e1beb",
   "metadata": {},
   "source": [
    "### 1.1 Placeholder reference\n",
    "\n",
    "| Placeholder | Meaning / What to Enter | Example |\n",
    "|-------------|-------------------------|---------|\n",
    "| `<AGENT_NAME>` | Descriptive name of the agent/system | `customer-support-assistant` |\n",
    "| `<AGENT_LABEL>` | Short label for UI grouping | `support-api` |\n",
    "| `<API_ENDPOINT_URL>` | Full HTTP endpoint to invoke | `https://api.example.com/v1/agent` |\n",
    "| `<HTTP_METHOD>` | HTTP verb | `POST` |\n",
    "| `<CONTENT_TYPE>` | Request content type | `application/json` |\n",
    "| `<AUTHORIZATION_HEADER>` | Auth header (omit if none) | `Bearer ${API_TOKEN}` |\n",
    "| `<REQUEST_BODY>` | JSON body string containing `{{prompt}}` token | `{\"query\":\"{{prompt}}\"}` |\n",
    "| `<REQUEST_DELAY>` | Milliseconds between requests | `250` |\n",
    "| `<TARGET_ID>` | Non-HTTP target id (file, provider, etc.) | `file://./agent.py:call_api` |\n",
    "| `<DESCRIBE_YOUR_APPLICATION_PURPOSE>` | Narrative of agent purpose | Free-form text |\n",
    "| `<YOUR_INDUSTRY_DOMAIN>` | Domain/sector | `Healthcare` |\n",
    "| `<SYSTEM_RULES_AND_CONSTRAINTS>` | Operational & security boundaries | Bullet list |\n",
    "| `<RED_TEAM_PERSONA>` | Attacker persona & goals | `Malicious insider seeking data exfil` |\n",
    "| `<TEST_GENERATION_INSTRUCTIONS>` | Guidance for plugin test generation | Domain-specific heuristics |\n",
    "| `<NUM_TESTS>` | Total tests parameter (see 2.9) | `25` |\n",
    "| `<MAX_CONCURRENCY>` | Parallel requests (see 2.9) | `5` |"
   ]
  },
  {
   "cell_type": "markdown",
   "id": "ae29535b",
   "metadata": {},
   "source": [
    "## 2. Deployment method"
   ]
  },
  {
   "cell_type": "markdown",
   "id": "bb10b87e",
   "metadata": {},
   "source": [
    "### 2.1. For locally running agents\n",
    "\n",
    "#### Create a provider file\n",
    "\n",
    "The `provider.py` file makes your agentic code compatible with promptfoo so promptfoo can invoke your agent.\n",
    "\n",
    "Create `provider.py` in your agentic code base:\n",
    "```python\n",
    "from typing import Any, Dict\n",
    "import json\n",
    "# Optional: import your agent modules here\n",
    "\n",
    "# Example synchronous wrapper. If your agent is async, you can run loop.run_until_complete.\n",
    "def call_api(prompt: str, options: Dict[str, Any], context: Dict[str, Any]) -> Dict[str, Any]:\n",
    "    try:\n",
    "        # Access contextual info if needed (e.g., session id)\n",
    "        session_id = context.get('vars', {}).get('sessionId')\n",
    "        \n",
    "        ########################\n",
    "\n",
    "        # TODO: Invoke your agent here and store the result in result var:\n",
    "        # result = #write your code here\n",
    "        \n",
    "        ##################################\n",
    "        return {'output': result}\n",
    "    except Exception as e:\n",
    "        return {'error': f'call_api failure: {e}'}\n",
    "```\n",
    "\n",
    "Key requirements:\n",
    "- Function name must be call_api `file://./provider.py:call_api`.\n",
    "- Return a dict containing either `output` (success) or `error`.\n",
    "- Avoid printing secrets—return minimal structured data.\n",
    "\n",
    "#### Setting your target\n",
    "```yaml\n",
    "description: You can give your agent description\n",
    "targets:\n",
    "  - id: file:///<complete path to your provider>/provider.py\n",
    "    label: Label for your agent\n",
    "    config:\n",
    "      verbose: true\n",
    "```\n",
    "\n",
    "#### Sample target config\n",
    "```yaml\n",
    "description: AI Travel Agent\n",
    "targets:\n",
    "  - id: file:///home/ubuntu/awesome-llm-apps/starter_ai_agents/ai_travel_agent/provider.py\n",
    "    label: travel agent\n",
    "    config:\n",
    "      verbose: true\n",
    "```\n",
    "\n",
    "### 2.2. For API based\n",
    "\n",
    "Here we are assuming your agent has some api exposed through which we can pass prompts\n",
    "\n",
    "#### Setting your target\n",
    "\n",
    "```yaml\n",
    "description: Give your agent's description\n",
    "targets:\n",
    "  - id: http\n",
    "    label: label for your agent\n",
    "    config:\n",
    "      url: <api url for sending prompts>\n",
    "      method: POST\n",
    "      headers:\n",
    "        Content-Type: application/json\n",
    "        Authorization: Bearer ${API_TOKEN}\n",
    "      body: '{\"query\":\"{{prompt}}\"}'\n",
    "    delay: 250\n",
    "```\n",
    "\n",
    "#### Sample target config for API based\n",
    "\n",
    "```yaml\n",
    "description: AI Newsletter Agent\n",
    "targets:\n",
    "  - id: http\n",
    "    label: Newsletter Agent\n",
    "    config:\n",
    "      url: https://demo.dummy.com/call_api\n",
    "      method: POST\n",
    "      headers:\n",
    "        Content-Type: application/json\n",
    "      body: '{\"message\":\"{{prompt}}\"}'\n",
    "```"
   ]
  },
  {
   "cell_type": "markdown",
   "id": "4854766f",
   "metadata": {},
   "source": [
    "## 3. Agent's Context\n",
    "\n",
    "Fill the configuration file with details of your agent. Follow the comments given in the cofig file\n",
    "\n",
    "- Application purpose\n",
    "- Industry/Domain\n",
    "- System rules/constraints\n",
    "- Persona of Red team user"
   ]
  },
  {
   "cell_type": "markdown",
   "id": "e964d6d8",
   "metadata": {},
   "source": [
    "### 4. Plugins\n",
    "\n",
    "Plugins are different categories of attack that you can perform on your agent. The config file lists a wide range of attacks, comment out or remove the ones that you dont need.\n",
    "\n"
   ]
  },
  {
   "cell_type": "markdown",
   "id": "f1161be0",
   "metadata": {},
   "source": [
    "### 5. testGenerationInstructions\n",
    "\n",
    "Give various instruction on how promptfoo should make prompts. You can give instructions like: Give realistic prompts with respect to the IT doman."
   ]
  },
  {
   "cell_type": "markdown",
   "id": "2b4ceedc",
   "metadata": {},
   "source": [
    "### 6. Strategies\n",
    "\n",
    "Strategies are attack techniques that systematically probe LLM applications/Agents for vulnerabilities.\n",
    "\n",
    "While plugins generate adversarial inputs, strategies determine how these inputs are delivered to maximize attack success rates.\n",
    "\n",
    "Choose different strategies to really test your agents."
   ]
  },
  {
   "cell_type": "markdown",
   "id": "bbf6045f",
   "metadata": {},
   "source": [
    "### 7. Number of test cases\n",
    "\n",
    "`numTests:` give a number here for your ideal number of test case. "
   ]
  },
  {
   "cell_type": "markdown",
   "id": "1ce7fc8d",
   "metadata": {},
   "source": [
    "### 8. Running red teaming\n",
    "\n",
    "After you have done previous steps, save the config file. Move to the location where you saved the config file and run the below command.\n",
    "\n",
    "`promptfoo redteam run`"
   ]
  },
  {
   "cell_type": "markdown",
   "id": "2595ff95",
   "metadata": {},
   "source": [
    "### 9. Viewing result\n",
    "\n",
    "To view the results in UI, run the below command,\n",
    "\n",
    "`promptfoo view`"
   ]
  },
  {
   "cell_type": "markdown",
   "id": "4c5143fe",
   "metadata": {},
   "source": [
    "### 10. Downloading report and placing it in correct dir\n",
    "\n",
    "1. Run `promptfoo view` to bring up the UI.\n",
    "2. Click on `Results` in the ui.\n",
    "3. Find the results of your current run.\n",
    "4. Open the result.\n",
    "5. Click on `View Vulnerability Report` button.\n",
    "6. Click on the download icon and choose `json`\n",
    "7. Move the file to this location `$PROMPTFOO_PATH`\n",
    "8. From the location, rename the file using `mv <current file name> $DETAILED_REPORT_PATH`\n",
    "9. Close the window"
   ]
  }
 ],
 "metadata": {
  "language_info": {
   "name": "python"
  }
 },
 "nbformat": 4,
 "nbformat_minor": 5
}
